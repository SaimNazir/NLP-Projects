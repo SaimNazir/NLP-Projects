{
 "cells": [
  {
   "cell_type": "code",
   "execution_count": 2,
   "metadata": {
    "cell_id": "00000-e6ab6357-7885-4d99-b0ad-c67db24e4abe",
    "deepnote_cell_type": "code",
    "deepnote_to_be_reexecuted": false,
    "execution_millis": 1913,
    "execution_start": 1618920782660,
    "source_hash": "35a288c5",
    "tags": []
   },
   "outputs": [
    {
     "name": "stdout",
     "output_type": "stream",
     "text": [
      "Counter({'Trust': 1159, 'Anticipation': 928, 'Sadness': 357, 'Disgust': 293, 'Joy': 279, 'Surprise': 156, 'Fear': 129, 'Anger': 85})\n"
     ]
    },
    {
     "data": {
      "application/vnd.deepnote.dataframe.v2+json": {
       "column_count": 5,
       "columns": [
        {
         "dtype": "int64",
         "name": "No",
         "stats": {
          "histogram": [
           {
            "bin_end": 1.4,
            "bin_start": 1,
            "count": 1
           },
           {
            "bin_end": 1.8,
            "bin_start": 1.4,
            "count": 0
           },
           {
            "bin_end": 2.2,
            "bin_start": 1.8,
            "count": 1
           },
           {
            "bin_end": 2.6,
            "bin_start": 2.2,
            "count": 0
           },
           {
            "bin_end": 3,
            "bin_start": 2.6,
            "count": 0
           },
           {
            "bin_end": 3.4000000000000004,
            "bin_start": 3,
            "count": 1
           },
           {
            "bin_end": 3.8000000000000003,
            "bin_start": 3.4000000000000004,
            "count": 0
           },
           {
            "bin_end": 4.2,
            "bin_start": 3.8000000000000003,
            "count": 1
           },
           {
            "bin_end": 4.6,
            "bin_start": 4.2,
            "count": 0
           },
           {
            "bin_end": 5,
            "bin_start": 4.6,
            "count": 1
           }
          ],
          "max": "5",
          "min": "1",
          "nan_count": 0,
          "unique_count": 5
         }
        },
        {
         "dtype": "object",
         "name": "discussion_text",
         "stats": {
          "categories": [
           {
            "count": 1,
            "name": " ...been on a low-carb diet my blood glucose has been pretty normal  although I did have hypo-type symptoms when I briefly tried taking ...associated .... Type 2 diabetes it's something I am always..."
           },
           {
            "count": 1,
            "name": "A major problem with the American diet is too much refined grains and added sugar  which are associated with the rise in obesity and type 2 diabetes [Source](http://www.joslin.org/news/Research-affirms-good-nutrition-can-help-prevent-and-control-type2-diabetes.html). This article is from the results of a systematic review of randomized controlled studies  which represents high-tier evidence.. Edit: I'll add  wheat bread can be great  and is usually very high in fiber (which is absolutely critical to digestive health).. Potatoes have very few redeeming qualities (high in potassium and a few minerals are the only ones I can think of)."
           },
           {
            "count": 3,
            "name": "3 others"
           }
          ],
          "nan_count": 0,
          "unique_count": 5
         }
        },
        {
         "dtype": "object",
         "name": "Label",
         "stats": {
          "categories": [
           {
            "count": 3,
            "name": "Disgust"
           },
           {
            "count": 2,
            "name": "Trust"
           }
          ],
          "nan_count": 0,
          "unique_count": 2
         }
        },
        {
         "dtype": "object",
         "name": "ModelName",
         "stats": {
          "categories": [
           {
            "count": 5,
            "name": "Emotions"
           }
          ],
          "nan_count": 0,
          "unique_count": 1
         }
        },
        {
         "dtype": "object",
         "name": "TextId",
         "stats": {
          "categories": [
           {
            "count": 1,
            "name": "508e98fc-8db4-4283-a2a4-63c3b70acf86"
           },
           {
            "count": 1,
            "name": "1349404b-4192-4da2-89ed-346d17351c6b"
           },
           {
            "count": 3,
            "name": "3 others"
           }
          ],
          "nan_count": 0,
          "unique_count": 5
         }
        },
        {
         "dtype": "int64",
         "name": "_deepnote_index_column"
        }
       ],
       "row_count": 5,
       "rows_bottom": null,
       "rows_top": [
        {
         "Label": "Trust",
         "ModelName": "Emotions",
         "No": 1,
         "TextId": "508e98fc-8db4-4283-a2a4-63c3b70acf86",
         "_deepnote_index_column": 0,
         "discussion_text": " ...been on a low-carb diet my blood glucose has been pretty normal  although I did have hypo-type symptoms when I briefly tried taking ...associated .... Type 2 diabetes it's something I am always..."
        },
        {
         "Label": "Disgust",
         "ModelName": "Emotions",
         "No": 2,
         "TextId": "1349404b-4192-4da2-89ed-346d17351c6b",
         "_deepnote_index_column": 1,
         "discussion_text": "A major problem with the American diet is too much refined grains and added sugar  which are associated with the rise in obesity and type 2 diabetes [Source](http://www.joslin.org/news/Research-affirms-good-nutrition-can-help-prevent-and-control-type2-diabetes.html). This article is from the results of a systematic review of randomized controlled studies  which represents high-tier evidence.. Edit: I'll add  wheat bread can be great  and is usually very high in fiber (which is absolutely critical to digestive health).. Potatoes have very few redeeming qualities (high in potassium and a few minerals are the only ones I can think of)."
        },
        {
         "Label": "Trust",
         "ModelName": "Emotions",
         "No": 3,
         "TextId": "a8961bab-8d57-492e-89b1-07b616a605f1",
         "_deepnote_index_column": 2,
         "discussion_text": "Everybody knows that being fat leads to Type 2 diabetes even though it's not true.. What seems more likely is that Type 2 diabetes makes people fat.. Even thin people who are insulin resistant are at risk.. In this article  the stereotyping of Type 2 diabetes is laid to rest and goes into detail about recognising the factors that lead to diagnosis."
        },
        {
         "Label": "Disgust",
         "ModelName": "Emotions",
         "No": 4,
         "TextId": "10628e32-8c12-4c09-b9e0-f98885519c94",
         "_deepnote_index_column": 3,
         "discussion_text": "For example  this diet could help reduce prostate cancer  reduce insulin and medication usage for type 2 diabetes  reduce LDL oxidation  reduce breast cancer  reduce colon cancer  reduce heart disease  and improve cardiac risk factors.. Wow  you mean all the same things that simply not being obese can do?"
        },
        {
         "Label": "Disgust",
         "ModelName": "Emotions",
         "No": 5,
         "TextId": "470c5855-24b9-44b3-aedc-c5cf2ed5ed6d",
         "_deepnote_index_column": 4,
         "discussion_text": "Hi everyone I have T2 diabetes and was diagnosed about two years I take Gliclazide as Metformin did not agree with me (I was on 1000 morning and evening)"
        }
       ]
      },
      "text/html": [
       "<div>\n",
       "<style scoped>\n",
       "    .dataframe tbody tr th:only-of-type {\n",
       "        vertical-align: middle;\n",
       "    }\n",
       "\n",
       "    .dataframe tbody tr th {\n",
       "        vertical-align: top;\n",
       "    }\n",
       "\n",
       "    .dataframe thead th {\n",
       "        text-align: right;\n",
       "    }\n",
       "</style>\n",
       "<table border=\"1\" class=\"dataframe\">\n",
       "  <thead>\n",
       "    <tr style=\"text-align: right;\">\n",
       "      <th></th>\n",
       "      <th>No</th>\n",
       "      <th>discussion_text</th>\n",
       "      <th>Label</th>\n",
       "      <th>ModelName</th>\n",
       "      <th>TextId</th>\n",
       "    </tr>\n",
       "  </thead>\n",
       "  <tbody>\n",
       "    <tr>\n",
       "      <th>0</th>\n",
       "      <td>1</td>\n",
       "      <td>...been on a low-carb diet my blood glucose h...</td>\n",
       "      <td>Trust</td>\n",
       "      <td>Emotions</td>\n",
       "      <td>508e98fc-8db4-4283-a2a4-63c3b70acf86</td>\n",
       "    </tr>\n",
       "    <tr>\n",
       "      <th>1</th>\n",
       "      <td>2</td>\n",
       "      <td>A major problem with the American diet is too ...</td>\n",
       "      <td>Disgust</td>\n",
       "      <td>Emotions</td>\n",
       "      <td>1349404b-4192-4da2-89ed-346d17351c6b</td>\n",
       "    </tr>\n",
       "    <tr>\n",
       "      <th>2</th>\n",
       "      <td>3</td>\n",
       "      <td>Everybody knows that being fat leads to Type 2...</td>\n",
       "      <td>Trust</td>\n",
       "      <td>Emotions</td>\n",
       "      <td>a8961bab-8d57-492e-89b1-07b616a605f1</td>\n",
       "    </tr>\n",
       "    <tr>\n",
       "      <th>3</th>\n",
       "      <td>4</td>\n",
       "      <td>For example  this diet could help reduce prost...</td>\n",
       "      <td>Disgust</td>\n",
       "      <td>Emotions</td>\n",
       "      <td>10628e32-8c12-4c09-b9e0-f98885519c94</td>\n",
       "    </tr>\n",
       "    <tr>\n",
       "      <th>4</th>\n",
       "      <td>5</td>\n",
       "      <td>Hi everyone I have T2 diabetes and was diagnos...</td>\n",
       "      <td>Disgust</td>\n",
       "      <td>Emotions</td>\n",
       "      <td>470c5855-24b9-44b3-aedc-c5cf2ed5ed6d</td>\n",
       "    </tr>\n",
       "  </tbody>\n",
       "</table>\n",
       "</div>"
      ],
      "text/plain": [
       "   No                                    discussion_text    Label ModelName  \\\n",
       "0   1   ...been on a low-carb diet my blood glucose h...    Trust  Emotions   \n",
       "1   2  A major problem with the American diet is too ...  Disgust  Emotions   \n",
       "2   3  Everybody knows that being fat leads to Type 2...    Trust  Emotions   \n",
       "3   4  For example  this diet could help reduce prost...  Disgust  Emotions   \n",
       "4   5  Hi everyone I have T2 diabetes and was diagnos...  Disgust  Emotions   \n",
       "\n",
       "                                 TextId  \n",
       "0  508e98fc-8db4-4283-a2a4-63c3b70acf86  \n",
       "1  1349404b-4192-4da2-89ed-346d17351c6b  \n",
       "2  a8961bab-8d57-492e-89b1-07b616a605f1  \n",
       "3  10628e32-8c12-4c09-b9e0-f98885519c94  \n",
       "4  470c5855-24b9-44b3-aedc-c5cf2ed5ed6d  "
      ]
     },
     "execution_count": 2,
     "metadata": {},
     "output_type": "execute_result"
    }
   ],
   "source": [
    "from sklearn.metrics                 import confusion_matrix, plot_confusion_matrix, accuracy_score, multilabel_confusion_matrix\n",
    "from sklearn.feature_extraction.text import CountVectorizer, TfidfTransformer, TfidfVectorizer\n",
    "from sklearn.model_selection         import train_test_split, StratifiedShuffleSplit, GridSearchCV\n",
    "from sklearn.feature_selection       import chi2, SelectKBest\n",
    "from sklearn.linear_model            import LogisticRegression\n",
    "from sklearn.naive_bayes             import MultinomialNB,ComplementNB\n",
    "from imblearn.pipeline               import Pipeline, make_pipeline\n",
    "from imblearn.over_sampling          import SMOTE, ADASYN\n",
    "from sklearn.utils                   import class_weight\n",
    "from sklearn                         import preprocessing\n",
    "from collections                     import Counter\n",
    "from sklearn                         import metrics\n",
    "\n",
    "import matplotlib.pyplot             as plt\n",
    "import numpy                         as np\n",
    "import pandas                        as pd\n",
    "import re\n",
    "\n",
    "df =  pd.read_csv(r'/work/NLP/Assignment-2/emotions.csv')\n",
    "\n",
    "labels = df.Label.unique()\n",
    "counter = Counter(df.Label)\n",
    "print(counter)\n",
    "\n",
    "df.head()"
   ]
  },
  {
   "cell_type": "code",
   "execution_count": 3,
   "metadata": {
    "cell_id": "00001-3bf4176f-bc19-475c-a778-2395b338e34a",
    "deepnote_cell_type": "code",
    "deepnote_to_be_reexecuted": false,
    "execution_millis": 209,
    "execution_start": 1618920784541,
    "source_hash": "46a8d2cf",
    "tags": []
   },
   "outputs": [
    {
     "data": {
      "image/png": "[encoded data removed]",
      "text/plain": [
       "<Figure size 432x288 with 1 Axes>"
      ]
     },
     "metadata": {
      "needs_background": "light"
     },
     "output_type": "display_data"
    }
   ],
   "source": [
    "# Evidently dealing with imbalanced data. Lets visualize the label distribution\n",
    "plt.bar(counter.keys(), counter.values())\n",
    "plt.show()"
   ]
  },
  {
   "cell_type": "code",
   "execution_count": 4,
   "metadata": {
    "cell_id": "00002-29fe1d0b-7d15-4e7b-aefe-7a1fdf74b981",
    "deepnote_cell_type": "code",
    "deepnote_to_be_reexecuted": false,
    "execution_millis": 4952,
    "execution_start": 1618920784695,
    "source_hash": "e8ba755",
    "tags": []
   },
   "outputs": [
    {
     "data": {
      "text/plain": [
       "3380    it depend on how you view it jenni ruhl for in...\n",
       "3381    it doe have a black box warn victoza victoza t...\n",
       "3382    it doe not answer the fact that my intern gluc...\n",
       "3383    it doe not matter how much or what time i eat ...\n",
       "3384    it doesnt includ type s of cours as well as ty...\n",
       "3385    it doesnt look to me like your diabet (judg fr...\n",
       "Name: text_clean, dtype: object"
      ]
     },
     "execution_count": 4,
     "metadata": {},
     "output_type": "execute_result"
    }
   ],
   "source": [
    "# This class imbalance needs to be handled in order to construct a good model\n",
    "# We will first continue by cleaning the data\n",
    "import nltk\n",
    "def preprocess(text):\n",
    "    \n",
    "    txt = re.sub(r'[-.,;:!?\\'\\d+]+', \"\", str(text).lower().strip())\n",
    "    tokens = txt.split()\n",
    "    \n",
    "    stemmer = nltk.stem.porter.PorterStemmer()\n",
    "    lst_text = [stemmer.stem(word) for word in tokens]\n",
    "    \n",
    "    output = \" \".join(lst_text)\n",
    "    return output\n",
    "\n",
    "df[\"text_clean\"] = df[\"discussion_text\"].apply(lambda x: preprocess(x))\n",
    "df.tail(6)[\"text_clean\"]"
   ]
  },
  {
   "cell_type": "code",
   "execution_count": 5,
   "metadata": {
    "cell_id": "00003-140008dd-2c1b-4c76-8632-e35474aabb36",
    "deepnote_cell_type": "code",
    "deepnote_to_be_reexecuted": false,
    "execution_millis": 13,
    "execution_start": 1618920789645,
    "source_hash": "25628d81",
    "tags": []
   },
   "outputs": [
    {
     "name": "stdout",
     "output_type": "stream",
     "text": [
      "(2708,)\n",
      "(678,)\n",
      "Counter({'Trust': 927, 'Anticipation': 742, 'Sadness': 286, 'Disgust': 234, 'Joy': 223, 'Surprise': 125, 'Fear': 103, 'Anger': 68})\n",
      "Counter({'Trust': 232, 'Anticipation': 186, 'Sadness': 71, 'Disgust': 59, 'Joy': 56, 'Surprise': 31, 'Fear': 26, 'Anger': 17})\n"
     ]
    }
   ],
   "source": [
    "X_train, X_test, y_train, y_test = train_test_split(df.text_clean, df.Label,\n",
    "                                                                        test_size = 0.2,\n",
    "                                                                        random_state = 42,\n",
    "                                                                        shuffle = True,\n",
    "                                                                        stratify = df.Label)\n",
    "print(X_train.shape)\n",
    "print(X_test.shape)\n",
    "\n",
    "print(Counter(y_train))\n",
    "print(Counter(y_test))\n",
    "# train_test showns to preserve label distribution ratio"
   ]
  },
  {
   "cell_type": "code",
   "execution_count": 6,
   "metadata": {
    "cell_id": "00002-17b2ace1-af7d-40e9-a173-2bc6a811bd50",
    "deepnote_cell_type": "code",
    "deepnote_to_be_reexecuted": false,
    "execution_millis": 3,
    "execution_start": 1618920789664,
    "source_hash": "8faf822",
    "tags": []
   },
   "outputs": [],
   "source": [
    "# Given the class imbalance we have decided to utilize the ADASYN algorithm\n",
    "# Accuracy fell, but recall improved. \n",
    "# This makes sense since the model would be more biased towards the majority class\n",
    "\n",
    "adasyn = ADASYN(sampling_strategy = 'minority', random_state = 42)\n",
    "\n",
    "logistic_model = Pipeline([\n",
    "    ('vect', CountVectorizer(stop_words = 'english',\n",
    "                             ngram_range = (1,4), \n",
    "                             max_features = 20000)),\n",
    "    \n",
    "    ('tfidf', TfidfTransformer()),\n",
    "    ('sampler', adasyn),\n",
    "    ('clf', LogisticRegression(solver='sag', max_iter = 10000, multi_class='multinomial')),\n",
    "     ])\n",
    "\n",
    "MNB_model = Pipeline(\n",
    "    [('vect', CountVectorizer(stop_words = 'english',\n",
    "                              ngram_range = (1,4),\n",
    "                              max_features = 20000\n",
    "                              )),\n",
    "     ('tfidf', TfidfTransformer()),\n",
    "     ('sampler', adasyn),\n",
    "     ('clf', MultinomialNB()),\n",
    "     ])"
   ]
  },
  {
   "cell_type": "code",
   "execution_count": 7,
   "metadata": {
    "cell_id": "00003-ed2a0600-b90a-4e1d-b6a1-e640afd93f97",
    "deepnote_cell_type": "code",
    "deepnote_to_be_reexecuted": false,
    "execution_millis": 2173,
    "execution_start": 1618920789702,
    "source_hash": "e87aa44",
    "tags": []
   },
   "outputs": [],
   "source": [
    "emotions_log_clf = logistic_model.fit(X_train, y_train)\n",
    "emotions__log_pred = logistic_model.predict(X_test)\n",
    "\n",
    "emotions_MNB_clf = MNB_model.fit(X_train, y_train)\n",
    "emotions_MNB_pred = MNB_model.predict(X_test)"
   ]
  },
  {
   "cell_type": "code",
   "execution_count": 8,
   "metadata": {
    "cell_id": "00004-a1f2f7b9-f72a-429d-b2b5-2083341eb07a",
    "deepnote_cell_type": "code",
    "deepnote_to_be_reexecuted": false,
    "execution_millis": 24,
    "execution_start": 1618920791881,
    "source_hash": "688e1731",
    "tags": []
   },
   "outputs": [
    {
     "name": "stdout",
     "output_type": "stream",
     "text": [
      "Accuracy for logistic model: 0.2581120943952802\n",
      "Accuracy for MNB model: 0.26253687315634217\n"
     ]
    }
   ],
   "source": [
    "# Accuracy scores\n",
    "emotions_log_acc = accuracy_score(y_test, emotions__log_pred)\n",
    "emotions_MNB_acc = accuracy_score(y_test, emotions_MNB_pred)\n",
    "\n",
    "print('Accuracy for logistic model:', emotions_log_acc)\n",
    "print('Accuracy for MNB model:', emotions_MNB_acc)"
   ]
  },
  {
   "cell_type": "code",
   "execution_count": 9,
   "metadata": {
    "cell_id": "00005-f0abbc21-2c80-4bf2-a1be-e983c746480a",
    "deepnote_cell_type": "code",
    "deepnote_to_be_reexecuted": false,
    "execution_millis": 33,
    "execution_start": 1618920791899,
    "source_hash": "a8b0b14c",
    "tags": []
   },
   "outputs": [
    {
     "name": "stdout",
     "output_type": "stream",
     "text": [
      "Classification report for logistic model:\n",
      "               precision    recall  f1-score   support\n",
      "\n",
      "       Trust       0.00      0.00      0.00        17\n",
      "     Disgust       0.19      0.22      0.20       186\n",
      "Anticipation       0.00      0.00      0.00        59\n",
      "     Sadness       0.00      0.00      0.00        26\n",
      "       Anger       0.00      0.00      0.00        56\n",
      "        Fear       0.00      0.00      0.00        71\n",
      "         Joy       0.00      0.00      0.00        31\n",
      "    Surprise       0.31      0.58      0.40       232\n",
      "\n",
      "    accuracy                           0.26       678\n",
      "   macro avg       0.06      0.10      0.08       678\n",
      "weighted avg       0.16      0.26      0.19       678\n",
      "\n",
      "Classification report for MNB model:\n",
      "               precision    recall  f1-score   support\n",
      "\n",
      "       Trust       0.03      0.24      0.06        17\n",
      "     Disgust       0.02      0.01      0.01       186\n",
      "Anticipation       0.00      0.00      0.00        59\n",
      "     Sadness       0.00      0.00      0.00        26\n",
      "       Anger       0.00      0.00      0.00        56\n",
      "        Fear       0.00      0.00      0.00        71\n",
      "         Joy       0.00      0.00      0.00        31\n",
      "    Surprise       0.34      0.75      0.47       232\n",
      "\n",
      "    accuracy                           0.26       678\n",
      "   macro avg       0.05      0.12      0.07       678\n",
      "weighted avg       0.12      0.26      0.16       678\n",
      "\n",
      "/shared-libs/python3.7/py/lib/python3.7/site-packages/sklearn/metrics/_classification.py:1245: UndefinedMetricWarning: Precision and F-score are ill-defined and being set to 0.0 in labels with no predicted samples. Use `zero_division` parameter to control this behavior.\n",
      "  _warn_prf(average, modifier, msg_start, len(result))\n",
      "/shared-libs/python3.7/py/lib/python3.7/site-packages/sklearn/metrics/_classification.py:1245: UndefinedMetricWarning: Precision and F-score are ill-defined and being set to 0.0 in labels with no predicted samples. Use `zero_division` parameter to control this behavior.\n",
      "  _warn_prf(average, modifier, msg_start, len(result))\n",
      "/shared-libs/python3.7/py/lib/python3.7/site-packages/sklearn/metrics/_classification.py:1245: UndefinedMetricWarning: Precision and F-score are ill-defined and being set to 0.0 in labels with no predicted samples. Use `zero_division` parameter to control this behavior.\n",
      "  _warn_prf(average, modifier, msg_start, len(result))\n",
      "/shared-libs/python3.7/py/lib/python3.7/site-packages/sklearn/metrics/_classification.py:1245: UndefinedMetricWarning: Precision and F-score are ill-defined and being set to 0.0 in labels with no predicted samples. Use `zero_division` parameter to control this behavior.\n",
      "  _warn_prf(average, modifier, msg_start, len(result))\n",
      "/shared-libs/python3.7/py/lib/python3.7/site-packages/sklearn/metrics/_classification.py:1245: UndefinedMetricWarning: Precision and F-score are ill-defined and being set to 0.0 in labels with no predicted samples. Use `zero_division` parameter to control this behavior.\n",
      "  _warn_prf(average, modifier, msg_start, len(result))\n",
      "/shared-libs/python3.7/py/lib/python3.7/site-packages/sklearn/metrics/_classification.py:1245: UndefinedMetricWarning: Precision and F-score are ill-defined and being set to 0.0 in labels with no predicted samples. Use `zero_division` parameter to control this behavior.\n",
      "  _warn_prf(average, modifier, msg_start, len(result))\n"
     ]
    }
   ],
   "source": [
    "# Classification reports\n",
    "emotions_logistic_report = metrics.classification_report(y_test, \n",
    "                                                         emotions__log_pred, \n",
    "                                                         target_names = labels)\n",
    "\n",
    "emotions_MNB_report = metrics.classification_report(y_test, \n",
    "                                                    emotions_MNB_pred, \n",
    "                                                    target_names = labels)\n",
    "\n",
    "print('Classification report for logistic model:\\n', emotions_logistic_report)\n",
    "print('Classification report for MNB model:\\n', emotions_MNB_report)"
   ]
  },
  {
   "cell_type": "code",
   "execution_count": 10,
   "metadata": {
    "cell_id": "00006-38ea6ad0-bda4-495f-9d66-f6b51efe3da8",
    "deepnote_cell_type": "code",
    "deepnote_to_be_reexecuted": false,
    "execution_millis": 153,
    "execution_start": 1618920791928,
    "source_hash": "c85acd00",
    "tags": []
   },
   "outputs": [
    {
     "name": "stdout",
     "output_type": "stream",
     "text": [
      "Counter({'Trust': 1159, 'Anticipation': 928, 'Sadness': 357, 'Disgust': 293, 'Joy': 279, 'Surprise': 156, 'Fear': 129, 'Anger': 85})\n"
     ]
    },
    {
     "data": {
      "application/vnd.deepnote.dataframe.v2+json": {
       "column_count": 5,
       "columns": [
        {
         "dtype": "int64",
         "name": "No",
         "stats": {
          "histogram": [
           {
            "bin_end": 1.4,
            "bin_start": 1,
            "count": 1
           },
           {
            "bin_end": 1.8,
            "bin_start": 1.4,
            "count": 0
           },
           {
            "bin_end": 2.2,
            "bin_start": 1.8,
            "count": 1
           },
           {
            "bin_end": 2.6,
            "bin_start": 2.2,
            "count": 0
           },
           {
            "bin_end": 3,
            "bin_start": 2.6,
            "count": 0
           },
           {
            "bin_end": 3.4000000000000004,
            "bin_start": 3,
            "count": 1
           },
           {
            "bin_end": 3.8000000000000003,
            "bin_start": 3.4000000000000004,
            "count": 0
           },
           {
            "bin_end": 4.2,
            "bin_start": 3.8000000000000003,
            "count": 1
           },
           {
            "bin_end": 4.6,
            "bin_start": 4.2,
            "count": 0
           },
           {
            "bin_end": 5,
            "bin_start": 4.6,
            "count": 1
           }
          ],
          "max": "5",
          "min": "1",
          "nan_count": 0,
          "unique_count": 5
         }
        },
        {
         "dtype": "object",
         "name": "discussion_text",
         "stats": {
          "categories": [
           {
            "count": 1,
            "name": " ...been on a low-carb diet my blood glucose has been pretty normal  although I did have hypo-type symptoms when I briefly tried taking ...associated .... Type 2 diabetes it's something I am always..."
           },
           {
            "count": 1,
            "name": "A major problem with the American diet is too much refined grains and added sugar  which are associated with the rise in obesity and type 2 diabetes [Source](http://www.joslin.org/news/Research-affirms-good-nutrition-can-help-prevent-and-control-type2-diabetes.html). This article is from the results of a systematic review of randomized controlled studies  which represents high-tier evidence.. Edit: I'll add  wheat bread can be great  and is usually very high in fiber (which is absolutely critical to digestive health).. Potatoes have very few redeeming qualities (high in potassium and a few minerals are the only ones I can think of)."
           },
           {
            "count": 3,
            "name": "3 others"
           }
          ],
          "nan_count": 0,
          "unique_count": 5
         }
        },
        {
         "dtype": "object",
         "name": "Label",
         "stats": {
          "categories": [
           {
            "count": 3,
            "name": "Living with diabetes - Nutrition"
           },
           {
            "count": 1,
            "name": "Undiagnosed"
           },
           {
            "count": 1,
            "name": "Clinical Treatment"
           }
          ],
          "nan_count": 0,
          "unique_count": 3
         }
        },
        {
         "dtype": "object",
         "name": "ModelName",
         "stats": {
          "categories": [
           {
            "count": 5,
            "name": "Patient Journey"
           }
          ],
          "nan_count": 0,
          "unique_count": 1
         }
        },
        {
         "dtype": "object",
         "name": "TextId",
         "stats": {
          "categories": [
           {
            "count": 1,
            "name": "508e98fc-8db4-4283-a2a4-63c3b70acf86"
           },
           {
            "count": 1,
            "name": "1349404b-4192-4da2-89ed-346d17351c6b"
           },
           {
            "count": 3,
            "name": "3 others"
           }
          ],
          "nan_count": 0,
          "unique_count": 5
         }
        },
        {
         "dtype": "int64",
         "name": "_deepnote_index_column"
        }
       ],
       "row_count": 5,
       "rows_bottom": null,
       "rows_top": [
        {
         "Label": "Living with diabetes - Nutrition",
         "ModelName": "Patient Journey",
         "No": 1,
         "TextId": "508e98fc-8db4-4283-a2a4-63c3b70acf86",
         "_deepnote_index_column": 0,
         "discussion_text": " ...been on a low-carb diet my blood glucose has been pretty normal  although I did have hypo-type symptoms when I briefly tried taking ...associated .... Type 2 diabetes it's something I am always..."
        },
        {
         "Label": "Living with diabetes - Nutrition",
         "ModelName": "Patient Journey",
         "No": 2,
         "TextId": "1349404b-4192-4da2-89ed-346d17351c6b",
         "_deepnote_index_column": 1,
         "discussion_text": "A major problem with the American diet is too much refined grains and added sugar  which are associated with the rise in obesity and type 2 diabetes [Source](http://www.joslin.org/news/Research-affirms-good-nutrition-can-help-prevent-and-control-type2-diabetes.html). This article is from the results of a systematic review of randomized controlled studies  which represents high-tier evidence.. Edit: I'll add  wheat bread can be great  and is usually very high in fiber (which is absolutely critical to digestive health).. Potatoes have very few redeeming qualities (high in potassium and a few minerals are the only ones I can think of)."
        },
        {
         "Label": "Undiagnosed",
         "ModelName": "Patient Journey",
         "No": 3,
         "TextId": "a8961bab-8d57-492e-89b1-07b616a605f1",
         "_deepnote_index_column": 2,
         "discussion_text": "Everybody knows that being fat leads to Type 2 diabetes even though it's not true.. What seems more likely is that Type 2 diabetes makes people fat.. Even thin people who are insulin resistant are at risk.. In this article  the stereotyping of Type 2 diabetes is laid to rest and goes into detail about recognising the factors that lead to diagnosis."
        },
        {
         "Label": "Living with diabetes - Nutrition",
         "ModelName": "Patient Journey",
         "No": 4,
         "TextId": "10628e32-8c12-4c09-b9e0-f98885519c94",
         "_deepnote_index_column": 3,
         "discussion_text": "For example  this diet could help reduce prostate cancer  reduce insulin and medication usage for type 2 diabetes  reduce LDL oxidation  reduce breast cancer  reduce colon cancer  reduce heart disease  and improve cardiac risk factors.. Wow  you mean all the same things that simply not being obese can do?"
        },
        {
         "Label": "Clinical Treatment",
         "ModelName": "Patient Journey",
         "No": 5,
         "TextId": "470c5855-24b9-44b3-aedc-c5cf2ed5ed6d",
         "_deepnote_index_column": 4,
         "discussion_text": "Hi everyone I have T2 diabetes and was diagnosed about two years I take Gliclazide as Metformin did not agree with me (I was on 1000 morning and evening)"
        }
       ]
      },
      "text/html": [
       "<div>\n",
       "<style scoped>\n",
       "    .dataframe tbody tr th:only-of-type {\n",
       "        vertical-align: middle;\n",
       "    }\n",
       "\n",
       "    .dataframe tbody tr th {\n",
       "        vertical-align: top;\n",
       "    }\n",
       "\n",
       "    .dataframe thead th {\n",
       "        text-align: right;\n",
       "    }\n",
       "</style>\n",
       "<table border=\"1\" class=\"dataframe\">\n",
       "  <thead>\n",
       "    <tr style=\"text-align: right;\">\n",
       "      <th></th>\n",
       "      <th>No</th>\n",
       "      <th>discussion_text</th>\n",
       "      <th>Label</th>\n",
       "      <th>ModelName</th>\n",
       "      <th>TextId</th>\n",
       "    </tr>\n",
       "  </thead>\n",
       "  <tbody>\n",
       "    <tr>\n",
       "      <th>0</th>\n",
       "      <td>1</td>\n",
       "      <td>...been on a low-carb diet my blood glucose h...</td>\n",
       "      <td>Living with diabetes - Nutrition</td>\n",
       "      <td>Patient Journey</td>\n",
       "      <td>508e98fc-8db4-4283-a2a4-63c3b70acf86</td>\n",
       "    </tr>\n",
       "    <tr>\n",
       "      <th>1</th>\n",
       "      <td>2</td>\n",
       "      <td>A major problem with the American diet is too ...</td>\n",
       "      <td>Living with diabetes - Nutrition</td>\n",
       "      <td>Patient Journey</td>\n",
       "      <td>1349404b-4192-4da2-89ed-346d17351c6b</td>\n",
       "    </tr>\n",
       "    <tr>\n",
       "      <th>2</th>\n",
       "      <td>3</td>\n",
       "      <td>Everybody knows that being fat leads to Type 2...</td>\n",
       "      <td>Undiagnosed</td>\n",
       "      <td>Patient Journey</td>\n",
       "      <td>a8961bab-8d57-492e-89b1-07b616a605f1</td>\n",
       "    </tr>\n",
       "    <tr>\n",
       "      <th>3</th>\n",
       "      <td>4</td>\n",
       "      <td>For example  this diet could help reduce prost...</td>\n",
       "      <td>Living with diabetes - Nutrition</td>\n",
       "      <td>Patient Journey</td>\n",
       "      <td>10628e32-8c12-4c09-b9e0-f98885519c94</td>\n",
       "    </tr>\n",
       "    <tr>\n",
       "      <th>4</th>\n",
       "      <td>5</td>\n",
       "      <td>Hi everyone I have T2 diabetes and was diagnos...</td>\n",
       "      <td>Clinical Treatment</td>\n",
       "      <td>Patient Journey</td>\n",
       "      <td>470c5855-24b9-44b3-aedc-c5cf2ed5ed6d</td>\n",
       "    </tr>\n",
       "  </tbody>\n",
       "</table>\n",
       "</div>"
      ],
      "text/plain": [
       "   No                                    discussion_text  \\\n",
       "0   1   ...been on a low-carb diet my blood glucose h...   \n",
       "1   2  A major problem with the American diet is too ...   \n",
       "2   3  Everybody knows that being fat leads to Type 2...   \n",
       "3   4  For example  this diet could help reduce prost...   \n",
       "4   5  Hi everyone I have T2 diabetes and was diagnos...   \n",
       "\n",
       "                              Label        ModelName  \\\n",
       "0  Living with diabetes - Nutrition  Patient Journey   \n",
       "1  Living with diabetes - Nutrition  Patient Journey   \n",
       "2                       Undiagnosed  Patient Journey   \n",
       "3  Living with diabetes - Nutrition  Patient Journey   \n",
       "4                Clinical Treatment  Patient Journey   \n",
       "\n",
       "                                 TextId  \n",
       "0  508e98fc-8db4-4283-a2a4-63c3b70acf86  \n",
       "1  1349404b-4192-4da2-89ed-346d17351c6b  \n",
       "2  a8961bab-8d57-492e-89b1-07b616a605f1  \n",
       "3  10628e32-8c12-4c09-b9e0-f98885519c94  \n",
       "4  470c5855-24b9-44b3-aedc-c5cf2ed5ed6d  "
      ]
     },
     "execution_count": 10,
     "metadata": {},
     "output_type": "execute_result"
    }
   ],
   "source": [
    "# Start of Patient Journey dataset\n",
    "df_2 = pd.read_csv(r'/work/NLP/Assignment-2/Diabetes-classi.csv')\n",
    "\n",
    "\n",
    "labels_2 = df_2.Label.unique()\n",
    "counter_2 = Counter(df.Label)\n",
    "print(counter)\n",
    "\n",
    "df_2.head()"
   ]
  },
  {
   "cell_type": "code",
   "execution_count": 11,
   "metadata": {
    "cell_id": "00007-aa43675a-0b6f-4207-aab7-5b7618c58491",
    "deepnote_cell_type": "code",
    "deepnote_to_be_reexecuted": false,
    "execution_millis": 146,
    "execution_start": 1618920792072,
    "source_hash": "8cff2cf8",
    "tags": []
   },
   "outputs": [
    {
     "data": {
      "image/png": "[encoded data removed]",
      "text/plain": [
       "<Figure size 432x288 with 1 Axes>"
      ]
     },
     "metadata": {
      "needs_background": "light"
     },
     "output_type": "display_data"
    }
   ],
   "source": [
    "# Visualizing label distribution\n",
    "plt.bar(counter_2.keys(), counter_2.values())\n",
    "plt.show()"
   ]
  },
  {
   "cell_type": "code",
   "execution_count": 12,
   "metadata": {
    "cell_id": "00008-7ab9c3d4-c3b5-4645-9048-a9becfc00ada",
    "deepnote_cell_type": "code",
    "deepnote_to_be_reexecuted": false,
    "execution_millis": 1713,
    "execution_start": 1618920792212,
    "source_hash": "2b97dc2f",
    "tags": []
   },
   "outputs": [
    {
     "data": {
      "text/plain": [
       "1420    i am do thi for myself and to help my health y...\n",
       "1421    i am extrem glad i found thi forum and all you...\n",
       "1422    i am fairli newli diagnos with type diabet whi...\n",
       "1423    i am fairli newli diagnos with type diabet whi...\n",
       "1424    i am go through the same thing right now i had...\n",
       "1425    i am go to ask my doctor for a fast insulin te...\n",
       "Name: text_clean, dtype: object"
      ]
     },
     "execution_count": 12,
     "metadata": {},
     "output_type": "execute_result"
    }
   ],
   "source": [
    "# Applying preprocess function on text column\n",
    "df_2[\"text_clean\"] = df_2[\"discussion_text\"].apply(lambda x: preprocess(x))\n",
    "df_2.tail(6)[\"text_clean\"]"
   ]
  },
  {
   "cell_type": "code",
   "execution_count": 13,
   "metadata": {
    "cell_id": "00009-e15c067b-547f-4b8e-841c-8c2159630e2e",
    "deepnote_cell_type": "code",
    "deepnote_to_be_reexecuted": false,
    "execution_millis": 21,
    "execution_start": 1618920793904,
    "source_hash": "3bf8a315",
    "tags": []
   },
   "outputs": [
    {
     "name": "stdout",
     "output_type": "stream",
     "text": [
      "Counter({'Living with diabetes - Nutrition': 335, 'Living with diabetes - Lifestyle; Social and Psychological': 231, 'Clinical Treatment': 177, 'Undiagnosed': 150, 'Living with diabetes - Exercise': 148, 'Diagnosis ': 47, 'Relatives of diabetes patients': 41, 'Alternative Treatment': 11})\n",
      "Counter({'Living with diabetes - Nutrition': 84, 'Living with diabetes - Lifestyle; Social and Psychological': 58, 'Clinical Treatment': 45, 'Undiagnosed': 37, 'Living with diabetes - Exercise': 37, 'Diagnosis ': 12, 'Relatives of diabetes patients': 10, 'Alternative Treatment': 3})\n"
     ]
    }
   ],
   "source": [
    "X_train_2, X_test_2, y_train_2, y_test_2 = train_test_split(df_2.text_clean, df_2.Label,\n",
    "                                                                        test_size = 0.2,\n",
    "                                                                        random_state = 42,\n",
    "                                                                        shuffle = True,\n",
    "                                                                        stratify = df_2.Label)\n",
    "print(Counter(y_train_2))\n",
    "print(Counter(y_test_2))"
   ]
  },
  {
   "cell_type": "code",
   "execution_count": 14,
   "metadata": {
    "cell_id": "00010-0fa91e83-6dc5-4597-b87b-28611c187978",
    "deepnote_cell_type": "code",
    "deepnote_to_be_reexecuted": false,
    "execution_millis": 1047,
    "execution_start": 1618920793910,
    "source_hash": "b7f5ca3b",
    "tags": []
   },
   "outputs": [],
   "source": [
    "patientJourney_log_clf = logistic_model.fit(X_train_2, y_train_2)\n",
    "patientJourney_log_pred = logistic_model.predict(X_test_2)\n",
    "\n",
    "patientJourney_MNB_clf = MNB_model.fit(X_train_2, y_train_2)\n",
    "patientJourney_MNB_pred = MNB_model.predict(X_test_2)"
   ]
  },
  {
   "cell_type": "code",
   "execution_count": 15,
   "metadata": {
    "cell_id": "00013-4ad83e3a-c6c4-4f14-9eb9-e2451d8d1736",
    "deepnote_cell_type": "code",
    "deepnote_to_be_reexecuted": false,
    "execution_millis": 49,
    "execution_start": 1618920794964,
    "source_hash": "3c4dff98",
    "tags": []
   },
   "outputs": [
    {
     "name": "stdout",
     "output_type": "stream",
     "text": [
      "Accuracy for logistic model: 0.458041958041958\n",
      "Accuracy for MNB model: 0.2972027972027972\n"
     ]
    }
   ],
   "source": [
    "patientJourney_log_acc = accuracy_score(y_test_2, patientJourney_log_pred)\n",
    "patientJourney_MNB_acc = accuracy_score(y_test_2, patientJourney_MNB_pred)\n",
    "\n",
    "print('Accuracy for logistic model:', patientJourney_log_acc)\n",
    "print('Accuracy for MNB model:', patientJourney_MNB_acc)"
   ]
  },
  {
   "cell_type": "code",
   "execution_count": 16,
   "metadata": {
    "cell_id": "00014-a22e508e-ee49-4754-976f-79fbf7e37e06",
    "deepnote_cell_type": "code",
    "deepnote_to_be_reexecuted": false,
    "execution_millis": 22,
    "execution_start": 1618920794991,
    "source_hash": "1d85add0",
    "tags": []
   },
   "outputs": [
    {
     "name": "stdout",
     "output_type": "stream",
     "text": [
      "Classification report for logistic model:\n",
      "                                                             precision    recall  f1-score   support\n",
      "\n",
      "                          Living with diabetes - Nutrition       0.00      0.00      0.00         3\n",
      "                                               Undiagnosed       0.54      0.49      0.51        45\n",
      "                                        Clinical Treatment       0.00      0.00      0.00        12\n",
      "                            Relatives of diabetes patients       0.53      0.27      0.36        37\n",
      "Living with diabetes - Lifestyle; Social and Psychological       0.38      0.31      0.34        58\n",
      "                           Living with diabetes - Exercise       0.46      0.89      0.60        84\n",
      "                                     Alternative Treatment       0.00      0.00      0.00        10\n",
      "                                                Diagnosis        0.43      0.16      0.24        37\n",
      "\n",
      "                                                  accuracy                           0.46       286\n",
      "                                                 macro avg       0.29      0.27      0.26       286\n",
      "                                              weighted avg       0.42      0.46      0.40       286\n",
      "\n",
      "Classification report for MNB model:\n",
      "                                                             precision    recall  f1-score   support\n",
      "\n",
      "                          Living with diabetes - Nutrition       0.00      0.00      0.00         3\n",
      "                                               Undiagnosed       0.67      0.09      0.16        45\n",
      "                                        Clinical Treatment       0.00      0.00      0.00        12\n",
      "                            Relatives of diabetes patients       0.00      0.00      0.00        37\n",
      "Living with diabetes - Lifestyle; Social and Psychological       0.00      0.00      0.00        58\n",
      "                           Living with diabetes - Exercise       0.31      0.96      0.47        84\n",
      "                                     Alternative Treatment       0.00      0.00      0.00        10\n",
      "                                                Diagnosis        0.00      0.00      0.00        37\n",
      "\n",
      "                                                  accuracy                           0.30       286\n",
      "                                                 macro avg       0.12      0.13      0.08       286\n",
      "                                              weighted avg       0.20      0.30      0.16       286\n",
      "\n",
      "/shared-libs/python3.7/py/lib/python3.7/site-packages/sklearn/metrics/_classification.py:1245: UndefinedMetricWarning: Precision and F-score are ill-defined and being set to 0.0 in labels with no predicted samples. Use `zero_division` parameter to control this behavior.\n",
      "  _warn_prf(average, modifier, msg_start, len(result))\n",
      "/shared-libs/python3.7/py/lib/python3.7/site-packages/sklearn/metrics/_classification.py:1245: UndefinedMetricWarning: Precision and F-score are ill-defined and being set to 0.0 in labels with no predicted samples. Use `zero_division` parameter to control this behavior.\n",
      "  _warn_prf(average, modifier, msg_start, len(result))\n",
      "/shared-libs/python3.7/py/lib/python3.7/site-packages/sklearn/metrics/_classification.py:1245: UndefinedMetricWarning: Precision and F-score are ill-defined and being set to 0.0 in labels with no predicted samples. Use `zero_division` parameter to control this behavior.\n",
      "  _warn_prf(average, modifier, msg_start, len(result))\n",
      "/shared-libs/python3.7/py/lib/python3.7/site-packages/sklearn/metrics/_classification.py:1245: UndefinedMetricWarning: Precision and F-score are ill-defined and being set to 0.0 in labels with no predicted samples. Use `zero_division` parameter to control this behavior.\n",
      "  _warn_prf(average, modifier, msg_start, len(result))\n",
      "/shared-libs/python3.7/py/lib/python3.7/site-packages/sklearn/metrics/_classification.py:1245: UndefinedMetricWarning: Precision and F-score are ill-defined and being set to 0.0 in labels with no predicted samples. Use `zero_division` parameter to control this behavior.\n",
      "  _warn_prf(average, modifier, msg_start, len(result))\n",
      "/shared-libs/python3.7/py/lib/python3.7/site-packages/sklearn/metrics/_classification.py:1245: UndefinedMetricWarning: Precision and F-score are ill-defined and being set to 0.0 in labels with no predicted samples. Use `zero_division` parameter to control this behavior.\n",
      "  _warn_prf(average, modifier, msg_start, len(result))\n"
     ]
    }
   ],
   "source": [
    "patientJourney_logistic_report = metrics.classification_report(y_test_2, \n",
    "                                                         patientJourney_log_pred, \n",
    "                                                         target_names = labels_2)\n",
    "\n",
    "patientJourney_MNB_report = metrics.classification_report(y_test_2, \n",
    "                                                    patientJourney_MNB_pred, \n",
    "                                                    target_names = labels_2)\n",
    "\n",
    "print('Classification report for logistic model:\\n', patientJourney_logistic_report)\n",
    "print('Classification report for MNB model:\\n', patientJourney_MNB_report)"
   ]
  },
  {
   "cell_type": "code",
   "execution_count": 17,
   "metadata": {
    "cell_id": "00015-497f5b64-bde9-4d55-a9f4-df9349c7ceef",
    "deepnote_cell_type": "code",
    "deepnote_to_be_reexecuted": false,
    "execution_millis": 2258,
    "execution_start": 1618920795000,
    "source_hash": "b2a6efbf",
    "tags": []
   },
   "outputs": [
    {
     "data": {
      "text/plain": [
       "Text(0.5, 1.0, 'Word Matrix')"
      ]
     },
     "execution_count": 17,
     "metadata": {},
     "output_type": "execute_result"
    },
    {
     "data": {
      "image/png": "[encoded data removed]",
      "text/plain": [
       "<Figure size 432x288 with 1 Axes>"
      ]
     },
     "metadata": {
      "needs_background": "light"
     },
     "output_type": "display_data"
    }
   ],
   "source": [
    "# Feature matrix has a shape of 2708 documents (number of rows in splitted df) and 10k features\n",
    "# Converting Series object to equivalent pipeline vectors in order to visualize. \n",
    "import seaborn as sns\n",
    "vectorizer = TfidfVectorizer(stop_words = \"english\",\n",
    "                             ngram_range = (1, 4))\n",
    "\n",
    "X_viz = vectorizer.fit_transform(X_train)\n",
    "\n",
    "    \n",
    "sns.heatmap(X_viz.todense()[:,np.random.randint(0, \n",
    "                                X_viz.shape[1], \n",
    "                                100)]==0, \n",
    "                                vmin=0, \n",
    "                                vmax=1, \n",
    "                                cbar=False).set_title('Word Matrix')"
   ]
  },
  {
   "cell_type": "markdown",
   "metadata": {
    "cell_id": "00015-5b128b7d-f595-409e-ae4d-7a4bca342ad8",
    "deepnote_cell_type": "markdown",
    "tags": []
   },
   "source": [
    "The low accuracy scores can be attributed to the fact that even though we accounted for the class imbalance through ADASYN, the algorithm does not perform well on sparse matrices (since it incorporates KNN), which our dataset becomes after vectorization, as vizualised in the above cell. The solution to this is to first perform feature selection and then pass the select key features to the models.\n",
    "\n",
    "Furthermore it can be said that, surprisingly, our logistic regression classifier perfoms better on the smaller dataset than the Multinomial Naive Bayes. We expected Naive Bayes to outperform Logistic Regression in the patient journey dataset and the opposite for the emotions dataset. Our assumptions were based on current research. According to professor Andrew Ng in his paper, On Discriminative vs. generative Classifiers: A comparison of logistic regression and naive Bayes, when the training size is larger logistic regression performs better than Naive Bayes. But this wasn't the case in our attempt. This is due to the above-mentioned fact that the datasets are converted to sparse matrices and as such, the smaller dataset will naturally be less sparse and so logistic regression in the end performs better here."
   ]
  },
  {
   "cell_type": "markdown",
   "metadata": {
    "cell_id": "00016-924ce537-1e4b-44f1-98bf-877e6d4e5eba",
    "deepnote_cell_type": "markdown",
    "tags": []
   },
   "source": [
    "\n"
   ]
  },
  {
   "cell_type": "markdown",
   "metadata": {
    "cell_id": "00017-458fdae7-627a-4b2c-a441-42a3b83c929a",
    "deepnote_cell_type": "markdown",
    "tags": []
   },
   "source": []
  },
  {
   "cell_type": "markdown",
   "metadata": {
    "cell_id": "00018-ed2e690b-ac11-4e79-8bf5-9d41b3b6a64b",
    "deepnote_cell_type": "markdown",
    "tags": []
   },
   "source": []
  },
  {
   "cell_type": "code",
   "execution_count": 18,
   "metadata": {
    "cell_id": "00022-fb62cfe7-05b7-4aaf-8bb5-d9da532460ba",
    "deepnote_cell_type": "code",
    "deepnote_to_be_reexecuted": false,
    "execution_millis": 10,
    "execution_start": 1618920797187,
    "source_hash": "a6e36687",
    "tags": []
   },
   "outputs": [],
   "source": [
    "#Extract most informative features used by the classifiers \n",
    "#for the classification of labels in the case of both models\n",
    "def extract_most_informative_features(X_train, y_train, met, n):\n",
    "    #CountVectorizer\n",
    "    count_vectorize = CountVectorizer(stop_words='english',max_features=100)\n",
    "    X_train_count = count_vectorize.fit_transform(raw_documents = X_train)\n",
    "    #TfidfTransformer\n",
    "    tfidf_transformer = TfidfTransformer(use_idf=True).fit(X_train_count)\n",
    "    X_train_tfidf = tfidf_transformer.transform(X_train_count)\n",
    "    #Classification method\n",
    "    met.fit(X_train_tfidf, y_train)\n",
    "    #Features\n",
    "    feature_names = count_vectorize.get_feature_names()\n",
    "    feat_importances = pd.Series(met.coef_[0], feature_names )\n",
    "    #Sort\n",
    "    result = feat_importances.nlargest(n)\n",
    "    return(result)"
   ]
  },
  {
   "cell_type": "code",
   "execution_count": 19,
   "metadata": {
    "cell_id": "00023-85b2e4ab-0998-427f-a345-6fd712a29628",
    "deepnote_cell_type": "code",
    "deepnote_to_be_reexecuted": false,
    "execution_millis": 463,
    "execution_start": 1618920797198,
    "source_hash": "353e1779",
    "tags": []
   },
   "outputs": [
    {
     "name": "stdout",
     "output_type": "stream",
     "text": [
      "The following are the most useful characteristics of the Multinomial Naive Bayes Classifier (Emotion Dataset):\n",
      "/shared-libs/python3.7/py/lib/python3.7/site-packages/sklearn/utils/deprecation.py:101: FutureWarning: Attribute coef_ was deprecated in version 0.24 and will be removed in 1.1 (renaming of 0.26).\n",
      "  warnings.warn(msg, category=FutureWarning)\n"
     ]
    },
    {
     "data": {
      "text/plain": [
       "diabet    -3.308109\n",
       "type      -3.540531\n",
       "wa        -3.758217\n",
       "year      -3.972874\n",
       "thi       -4.076944\n",
       "ha        -4.093779\n",
       "hi        -4.127367\n",
       "insulin   -4.130899\n",
       "just      -4.196800\n",
       "diagnos   -4.205825\n",
       "dtype: float64"
      ]
     },
     "metadata": {},
     "output_type": "display_data"
    },
    {
     "name": "stdout",
     "output_type": "stream",
     "text": [
      "ogistic Regression Classification's Most Insightful Features (Emotion Dataset):\n"
     ]
    },
    {
     "data": {
      "text/plain": [
       "low        0.973943\n",
       "did        0.965733\n",
       "normal     0.959839\n",
       "exercis    0.791376\n",
       "sinc       0.671849\n",
       "feel       0.670969\n",
       "health     0.664449\n",
       "diseas     0.648585\n",
       "good       0.640344\n",
       "read       0.639896\n",
       "dtype: float64"
      ]
     },
     "metadata": {},
     "output_type": "display_data"
    }
   ],
   "source": [
    "#Multinomial NB & Logistic Regression method\n",
    "MultiNB = MultinomialNB()\n",
    "LogReg =  LogisticRegression()\n",
    "print(\"The following are the most useful characteristics of the Multinomial Naive Bayes Classifier (Emotion Dataset):\")\n",
    "display(extract_most_informative_features(X_train, y_train, MultiNB, 10))\n",
    "print(\"Logistic Regression Classification's Most Insightful Features (Emotion Dataset):\")\n",
    "display(extract_most_informative_features(X_train, y_train, LogReg, 10))"
   ]
  },
  {
   "cell_type": "code",
   "execution_count": 20,
   "metadata": {
    "cell_id": "00024-b980b710-6530-4cb8-90f5-112ef512b8e1",
    "deepnote_cell_type": "code",
    "deepnote_to_be_reexecuted": false,
    "execution_millis": 252,
    "execution_start": 1618920797668,
    "source_hash": "9a790aca",
    "tags": []
   },
   "outputs": [
    {
     "name": "stdout",
     "output_type": "stream",
     "text": [
      "The following are the most useful characteristics of the Multinomial Naive Bayes Classifier (Patient Journey):\n",
      "/shared-libs/python3.7/py/lib/python3.7/site-packages/sklearn/utils/deprecation.py:101: FutureWarning: Attribute coef_ was deprecated in version 0.24 and will be removed in 1.1 (renaming of 0.26).\n",
      "  warnings.warn(msg, category=FutureWarning)\n"
     ]
    },
    {
     "data": {
      "text/plain": [
       "diabet    -3.735424\n",
       "recent    -3.958851\n",
       "just      -4.075983\n",
       "type      -4.103511\n",
       "use       -4.125294\n",
       "help      -4.161780\n",
       "lower     -4.173802\n",
       "insulin   -4.180217\n",
       "hi        -4.187985\n",
       "medic     -4.189772\n",
       "dtype: float64"
      ]
     },
     "metadata": {},
     "output_type": "display_data"
    },
    {
     "name": "stdout",
     "output_type": "stream",
     "text": [
      "The Most Insightful Logistic Regression Classification Features (Patient Journey):\n"
     ]
    },
    {
     "data": {
      "text/plain": [
       "recent     1.112643\n",
       "lower      0.844915\n",
       "use        0.691963\n",
       "just       0.678894\n",
       "patient    0.660405\n",
       "medic      0.629978\n",
       "help       0.571381\n",
       "result     0.489075\n",
       "new        0.483926\n",
       "loss       0.476870\n",
       "dtype: float64"
      ]
     },
     "metadata": {},
     "output_type": "display_data"
    }
   ],
   "source": [
    "print(\"The following are the most useful characteristics of the Multinomial Naive Bayes Classifier (Patient Journey):\")\n",
    "display(extract_most_informative_features(X_train_2, y_train_2, MultiNB,10))\n",
    "print(\"The Most Insightful Logistic Regression Classification Features (Patient Journey):\")\n",
    "display(extract_most_informative_features(X_train_2, y_train_2, LogReg, 10))"
   ]
  },
  {
   "cell_type": "markdown",
   "metadata": {
    "cell_id": "00024-8643d12b-63aa-443d-830f-07e480ee0e4f",
    "deepnote_cell_type": "text-cell-p",
    "tags": []
   },
   "source": [
    "Comparison of the Most Useful Features"
   ]
  },
  {
   "cell_type": "markdown",
   "metadata": {
    "cell_id": "00025-752ff492-67d7-4d09-bc65-f1496a5d90d3",
    "deepnote_cell_type": "markdown",
    "tags": []
   },
   "source": [
    "The joint probability distribution p is learned through a generative model such as the Multinomial NB (x,y). The Bayes Theorem is used to estimate the conditional likelihood. A discriminative process like Logistic Regression, on the other hand, learns the conditional probability distribution p(y|x). In both datasets, Multinomial NB identifies 'diabet' and 'type' as the two most informative features, while Logistic Regression identifies separate features as the top two.\n",
    "Since certain features can be reliant on each other, the Nave Bayes classifier's presumption of conditional independency may result in low prediction accuracy. Indeed, it seems that 'diabet' and 'type,\"insulin' and 'diagnos' are strongly correlated. Despite this, the NB declares independence. Furthermore, from a human's perspective, the characteristics selected by the Logistic Regression system are more suitable for classifying marks."
   ]
  },
  {
   "cell_type": "markdown",
   "metadata": {
    "created_in_deepnote_cell": true,
    "deepnote_cell_type": "markdown",
    "tags": []
   },
   "source": [
    "<a style='text-decoration:none;line-height:16px;display:flex;color:#5B5B62;padding:10px;justify-content:end;' href='https://deepnote.com?utm_source=created-in-deepnote-cell&projectId=70e35b10-b271-43b8-870a-be1f82c5c593' target=\"_blank\">\n",
    "<img alt='Created in deepnote.com' style='display:inline;max-height:16px;margin:0px;margin-right:7.5px;' src='data:image/svg+xml;base64,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' > </img>\n",
    "Created in <span style='font-weight:600;margin-left:4px;'>Deepnote</span></a>"
   ]
  }
 ],
 "metadata": {
  "deepnote": {
   "is_reactive": false
  },
  "deepnote_execution_queue": [],
  "deepnote_notebook_id": "630699e7-238f-4488-a32e-047135202a20",
  "kernelspec": {
   "display_name": "Python 3 (ipykernel)",
   "language": "python",
   "name": "python3"
  },
  "language_info": {
   "codemirror_mode": {
    "name": "ipython",
    "version": 3
   },
   "file_extension": ".py",
   "mimetype": "text/x-python",
   "name": "python",
   "nbconvert_exporter": "python",
   "pygments_lexer": "ipython3",
   "version": "3.8.12"
  }
 },
 "nbformat": 4,
 "nbformat_minor": 2
}
