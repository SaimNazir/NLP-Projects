{
 "cells": [
  {
   "cell_type": "code",
   "execution_count": 1,
   "metadata": {},
   "outputs": [
    {
     "name": "stdout",
     "output_type": "stream",
     "text": [
      "Counter({'Trust': 1159, 'Anticipation': 928, 'Sadness': 357, 'Disgust': 293, 'Joy': 279, 'Surprise': 156, 'Fear': 129, 'Anger': 85})\n"
     ]
    },
    {
     "data": {
      "text/html": [
       "<div>\n",
       "<style scoped>\n",
       "    .dataframe tbody tr th:only-of-type {\n",
       "        vertical-align: middle;\n",
       "    }\n",
       "\n",
       "    .dataframe tbody tr th {\n",
       "        vertical-align: top;\n",
       "    }\n",
       "\n",
       "    .dataframe thead th {\n",
       "        text-align: right;\n",
       "    }\n",
       "</style>\n",
       "<table border=\"1\" class=\"dataframe\">\n",
       "  <thead>\n",
       "    <tr style=\"text-align: right;\">\n",
       "      <th></th>\n",
       "      <th>No</th>\n",
       "      <th>discussion_text</th>\n",
       "      <th>Label</th>\n",
       "      <th>ModelName</th>\n",
       "      <th>TextId</th>\n",
       "    </tr>\n",
       "  </thead>\n",
       "  <tbody>\n",
       "    <tr>\n",
       "      <th>0</th>\n",
       "      <td>1</td>\n",
       "      <td>...been on a low-carb diet my blood glucose h...</td>\n",
       "      <td>Trust</td>\n",
       "      <td>Emotions</td>\n",
       "      <td>508e98fc-8db4-4283-a2a4-63c3b70acf86</td>\n",
       "    </tr>\n",
       "    <tr>\n",
       "      <th>1</th>\n",
       "      <td>2</td>\n",
       "      <td>A major problem with the American diet is too ...</td>\n",
       "      <td>Disgust</td>\n",
       "      <td>Emotions</td>\n",
       "      <td>1349404b-4192-4da2-89ed-346d17351c6b</td>\n",
       "    </tr>\n",
       "    <tr>\n",
       "      <th>2</th>\n",
       "      <td>3</td>\n",
       "      <td>Everybody knows that being fat leads to Type 2...</td>\n",
       "      <td>Trust</td>\n",
       "      <td>Emotions</td>\n",
       "      <td>a8961bab-8d57-492e-89b1-07b616a605f1</td>\n",
       "    </tr>\n",
       "    <tr>\n",
       "      <th>3</th>\n",
       "      <td>4</td>\n",
       "      <td>For example  this diet could help reduce prost...</td>\n",
       "      <td>Disgust</td>\n",
       "      <td>Emotions</td>\n",
       "      <td>10628e32-8c12-4c09-b9e0-f98885519c94</td>\n",
       "    </tr>\n",
       "    <tr>\n",
       "      <th>4</th>\n",
       "      <td>5</td>\n",
       "      <td>Hi everyone I have T2 diabetes and was diagnos...</td>\n",
       "      <td>Disgust</td>\n",
       "      <td>Emotions</td>\n",
       "      <td>470c5855-24b9-44b3-aedc-c5cf2ed5ed6d</td>\n",
       "    </tr>\n",
       "  </tbody>\n",
       "</table>\n",
       "</div>"
      ],
      "text/plain": [
       "   No                                    discussion_text    Label ModelName  \\\n",
       "0   1   ...been on a low-carb diet my blood glucose h...    Trust  Emotions   \n",
       "1   2  A major problem with the American diet is too ...  Disgust  Emotions   \n",
       "2   3  Everybody knows that being fat leads to Type 2...    Trust  Emotions   \n",
       "3   4  For example  this diet could help reduce prost...  Disgust  Emotions   \n",
       "4   5  Hi everyone I have T2 diabetes and was diagnos...  Disgust  Emotions   \n",
       "\n",
       "                                 TextId  \n",
       "0  508e98fc-8db4-4283-a2a4-63c3b70acf86  \n",
       "1  1349404b-4192-4da2-89ed-346d17351c6b  \n",
       "2  a8961bab-8d57-492e-89b1-07b616a605f1  \n",
       "3  10628e32-8c12-4c09-b9e0-f98885519c94  \n",
       "4  470c5855-24b9-44b3-aedc-c5cf2ed5ed6d  "
      ]
     },
     "execution_count": 1,
     "metadata": {},
     "output_type": "execute_result"
    }
   ],
   "source": [
    "from sklearn.metrics import confusion_matrix, plot_confusion_matrix, accuracy_score, multilabel_confusion_matrix\n",
    "from sklearn.feature_extraction.text import CountVectorizer, TfidfTransformer, TfidfVectorizer\n",
    "from sklearn.model_selection import train_test_split, StratifiedShuffleSplit, GridSearchCV\n",
    "from sklearn.feature_selection import chi2, SelectKBest\n",
    "from sklearn.preprocessing import StandardScaler\n",
    "from sklearn.linear_model import LogisticRegression\n",
    "from sklearn.naive_bayes import MultinomialNB,ComplementNB\n",
    "from imblearn.pipeline import Pipeline, make_pipeline\n",
    "from imblearn.over_sampling import SMOTE, ADASYN\n",
    "from scipy.stats import chi2_contingency\n",
    "from scipy.stats import chi\n",
    "from imblearn.under_sampling import RandomUnderSampler\n",
    "from sklearn.utils import class_weight\n",
    "#from sklearn.pipeline import Pipeline\n",
    "from sklearn import preprocessing\n",
    "import seaborn as sns\n",
    "import matplotlib.pyplot as plt\n",
    "from collections import Counter\n",
    "from sklearn import metrics\n",
    "import numpy as np\n",
    "import nltk\n",
    "import pandas as pd\n",
    "import re\n",
    "\n",
    "df =  pd.read_csv(r'C:\\Users\\Saim\\Desktop\\emotions.csv')\n",
    "labels = df.Label.unique()\n",
    "\n",
    "counter = Counter(df.Label)\n",
    "print(counter)\n",
    "\n",
    "df.head()"
   ]
  },
  {
   "cell_type": "code",
   "execution_count": 2,
   "metadata": {},
   "outputs": [
    {
     "data": {
      "image/png": "[encoded data removed]",
      "text/plain": [
       "<Figure size 432x288 with 1 Axes>"
      ]
     },
     "metadata": {
      "needs_background": "light"
     },
     "output_type": "display_data"
    }
   ],
   "source": [
    "# Evidently dealing with imbalanced data. Lets visualize the label distribution\n",
    "plt.bar(counter.keys(), counter.values())\n",
    "plt.show()"
   ]
  },
  {
   "cell_type": "code",
   "execution_count": 38,
   "metadata": {},
   "outputs": [
    {
     "data": {
      "text/plain": [
       "'\"This class imbalance needs to be handled in order to construct a good model'"
      ]
     },
     "execution_count": 38,
     "metadata": {},
     "output_type": "execute_result"
    }
   ],
   "source": [
    "\"\"\"\"This class imbalance needs to be handled in order to construct a good model\"\"\""
   ]
  },
  {
   "cell_type": "code",
   "execution_count": 2,
   "metadata": {},
   "outputs": [
    {
     "data": {
      "text/plain": [
       "3380    it depend on how you view it jenni ruhl for in...\n",
       "3381    it doe have a black box warn victoza victoza t...\n",
       "3382    it doe not answer the fact that my intern gluc...\n",
       "3383    it doe not matter how much or what time i eat ...\n",
       "3384    it doesnt includ type s of cours as well as ty...\n",
       "3385    it doesnt look to me like your diabet (judg fr...\n",
       "Name: text_clean, dtype: object"
      ]
     },
     "execution_count": 2,
     "metadata": {},
     "output_type": "execute_result"
    }
   ],
   "source": [
    "def preprocess(text):\n",
    "    \n",
    "    txt = re.sub(r'[-.,;:!?\\'\\d+]+', \"\", str(text).lower().strip())\n",
    "    tokens = txt.split()\n",
    "    \n",
    "    stemmer = nltk.stem.porter.PorterStemmer()\n",
    "    lst_text = [stemmer.stem(word) for word in tokens]\n",
    "    \n",
    "    output = \" \".join(lst_text)\n",
    "    return output\n",
    "\n",
    "df[\"text_clean\"] = df[\"discussion_text\"].apply(lambda x: preprocess(x))\n",
    "df.tail(6)[\"text_clean\"]"
   ]
  },
  {
   "cell_type": "code",
   "execution_count": 23,
   "metadata": {},
   "outputs": [
    {
     "data": {
      "text/plain": [
       "Text(0.5, 0, '$\\\\chi^2$')"
      ]
     },
     "execution_count": 23,
     "metadata": {},
     "output_type": "execute_result"
    },
    {
     "data": {
      "image/png": "[encoded data removed]",
      "text/plain": [
       "<Figure size 1080x720 with 1 Axes>"
      ]
     },
     "metadata": {
      "needs_background": "light"
     },
     "output_type": "display_data"
    }
   ],
   "source": [
    "tvec = TfidfVectorizer(max_features=100000,ngram_range=(1, 3))\n",
    "x_train_tfidf = tvec.fit_transform(df[\"text_clean\"])\n",
    "\n",
    "\n",
    "chi2score = chi2(x_train_tfidf, df.Label)[0]\n",
    "\n",
    "plt.figure(figsize=(15,10))\n",
    "\n",
    "wscores = zip(tvec.get_feature_names(), chi2score)\n",
    "\n",
    "wchi2 = sorted(wscores, key=lambda x:x[1])\n",
    "\n",
    "topchi2 = list(zip(*wchi2[-20:]))\n",
    "\n",
    "x = range(len(topchi2[1]))\n",
    "labels = topchi2[0]\n",
    "plt.barh(x,topchi2[1], align='center', alpha=0.2)\n",
    "plt.plot(topchi2[1], x, '-o', markersize=5, alpha=0.8)\n",
    "plt.yticks(x, labels)\n",
    "plt.xlabel('$\\chi^2$')"
   ]
  },
  {
   "cell_type": "code",
   "execution_count": null,
   "metadata": {},
   "outputs": [],
   "source": [
    "ch2_result = []\n",
    "for n in np.arange(10000,100000,10000):\n",
    "    ch2 = SelectKBest(chi2, k=n)\n",
    "    x_train_chi2_selected = ch2.fit_transform(x_train_tfidf, y_train)\n",
    "    x_validation_chi2_selected = ch2.transform(df.Label)\n",
    "    clf = LogisticRegression()\n",
    "    clf.fit(x_train_chi2_selected, y_train)\n",
    "    score = clf.score(x_validation_chi2_selected, y_validation)\n",
    "    ch2_result.append(score)\n",
    "    print \"chi2 feature selection evaluation calculated for {} features\".format(n)"
   ]
  },
  {
   "cell_type": "code",
   "execution_count": 83,
   "metadata": {},
   "outputs": [],
   "source": [
    "vectorizer = TfidfVectorizer(stop_words = \"english\",\n",
    "                             ngram_range = (1, 4))\n",
    "\n",
    "corpus = df[\"text_clean\"]\n",
    "X = vectorizer.fit_transform(corpus)\n",
    "vocabulary = vectorizer.vocabulary_\n",
    "\n",
    "label_encoder = preprocessing.LabelEncoder()\n",
    "y = label_encoder.fit_transform(df.Label)"
   ]
  },
  {
   "cell_type": "code",
   "execution_count": null,
   "metadata": {},
   "outputs": [],
   "source": [
    "X_names = vectorizer.get_feature_names()\n",
    "p_value_limit = 0.95\n",
    "\n",
    "contigency = pd.crosstab(df.text_clean, df.Label)\n",
    "\n",
    "#y = contigency\n",
    "#X = df[\"text_clean\"]\n",
    "\n",
    "chi_scores = chi2(X,y)\n",
    "len(chi_scores)\n",
    "chi_scores\n",
    "\n"
   ]
  },
  {
   "cell_type": "code",
   "execution_count": null,
   "metadata": {},
   "outputs": [],
   "source": [
    "dtf_features = pd.DataFrame()\n",
    "for cat in np.unique(y):\n",
    "    chi2, p = feature_selection.chi2(X_train, y==cat)\n",
    "    dtf_features = dtf_features.append(pd.DataFrame(\n",
    "                   {\"feature\":X_names, \"score\":1-p, \"y\":cat}))\n",
    "    dtf_features = dtf_features.sort_values([\"y\",\"score\"], \n",
    "                    ascending=[True,False])\n",
    "    dtf_features = dtf_features[dtf_features[\"score\"]>p_value_limit]\n",
    "X_names = dtf_features[\"feature\"].unique().tolist()"
   ]
  },
  {
   "cell_type": "code",
   "execution_count": 3,
   "metadata": {},
   "outputs": [
    {
     "name": "stdout",
     "output_type": "stream",
     "text": [
      "(2708,)\n",
      "(678,)\n",
      "Counter({'Trust': 927, 'Anticipation': 742, 'Sadness': 286, 'Disgust': 234, 'Joy': 223, 'Surprise': 125, 'Fear': 103, 'Anger': 68})\n",
      "Counter({'Trust': 232, 'Anticipation': 186, 'Sadness': 71, 'Disgust': 59, 'Joy': 56, 'Surprise': 31, 'Fear': 26, 'Anger': 17})\n"
     ]
    }
   ],
   "source": [
    "X_train, X_test, y_train, y_test = train_test_split(df.text_clean, df.Label,\n",
    "                                                                        test_size = 0.2,\n",
    "                                                                        random_state = 42,\n",
    "                                                                        shuffle = True,\n",
    "                                                                        stratify = df.Label)\n",
    "print(X_train.shape)\n",
    "print(X_test.shape)\n",
    "\n",
    "print(Counter(y_train))\n",
    "print(Counter(y_test))\n",
    "# train_test showns to preserve label distribution ratio\n",
    "#('feature_selector', SelectKBest(chi2, k=10000)),"
   ]
  },
  {
   "cell_type": "code",
   "execution_count": 4,
   "metadata": {},
   "outputs": [],
   "source": [
    "# Given the class imbalance we have decided to utilize the ADASYN algorithm\n",
    "# Accuracy fell, but recall improved. \n",
    "# This makes sense since the model would be more biased towards the majority class\n",
    "\n",
    "adasyn = ADASYN(sampling_strategy = 'minority', random_state = 42)\n",
    "\n",
    "logistic_model = Pipeline([\n",
    "    ('vect', CountVectorizer(stop_words = 'english',\n",
    "                             ngram_range = (1,4), \n",
    "                             max_features = 20000)),\n",
    "    \n",
    "    ('tfidf', TfidfTransformer()),\n",
    "    ('sampler', adasyn),\n",
    "    ('feature_selector', SelectKBest(chi2, k=5000)),\n",
    "    ('clf', LogisticRegression(solver='sag', max_iter = 10000, multi_class='multinomial')),\n",
    "     ])\n",
    "\n",
    "MNB_model = Pipeline(\n",
    "    [('vect', CountVectorizer(stop_words = 'english',\n",
    "                              ngram_range = (1,4),\n",
    "                              max_features = 20000\n",
    "                              )),\n",
    "     ('tfidf', TfidfTransformer()),\n",
    "     ('feature_selector', SelectKBest(chi2, k=5000)),\n",
    "     ('sampler', adasyn),\n",
    "     ('clf', MultinomialNB()),\n",
    "     ])"
   ]
  },
  {
   "cell_type": "code",
   "execution_count": 5,
   "metadata": {},
   "outputs": [],
   "source": [
    "emotions_log_clf = logistic_model.fit(X_train, y_train)\n",
    "emotions__log_pred = logistic_model.predict(X_test)\n",
    "\n",
    "emotions_MNB_clf = MNB_model.fit(X_train, y_train)\n",
    "emotions_MNB_pred = MNB_model.predict(X_test)"
   ]
  },
  {
   "cell_type": "code",
   "execution_count": 6,
   "metadata": {},
   "outputs": [
    {
     "name": "stdout",
     "output_type": "stream",
     "text": [
      "Accuracy for logistic model: 0.26991150442477874\n",
      "Accuracy for MNB model: 0.2713864306784661\n"
     ]
    }
   ],
   "source": [
    "# Accuracy scores\n",
    "emotions_log_acc = accuracy_score(y_test, emotions__log_pred)\n",
    "emotions_MNB_acc = accuracy_score(y_test, emotions_MNB_pred)\n",
    "\n",
    "print('Accuracy for logistic model:', emotions_log_acc)\n",
    "print('Accuracy for MNB model:', emotions_MNB_acc)"
   ]
  },
  {
   "cell_type": "code",
   "execution_count": 19,
   "metadata": {},
   "outputs": [
    {
     "name": "stdout",
     "output_type": "stream",
     "text": [
      "Classification report for logistic model:\n",
      "               precision    recall  f1-score   support\n",
      "\n",
      "       Trust       0.00      0.00      0.00        17\n",
      "     Disgust       0.19      0.22      0.20       186\n",
      "Anticipation       0.00      0.00      0.00        59\n",
      "     Sadness       0.00      0.00      0.00        26\n",
      "       Anger       0.00      0.00      0.00        56\n",
      "        Fear       0.00      0.00      0.00        71\n",
      "         Joy       0.00      0.00      0.00        31\n",
      "    Surprise       0.31      0.58      0.40       232\n",
      "\n",
      "    accuracy                           0.26       678\n",
      "   macro avg       0.06      0.10      0.08       678\n",
      "weighted avg       0.16      0.26      0.19       678\n",
      "\n",
      "Classification report for MNB model:\n",
      "               precision    recall  f1-score   support\n",
      "\n",
      "       Trust       0.03      0.24      0.06        17\n",
      "     Disgust       0.02      0.01      0.01       186\n",
      "Anticipation       0.00      0.00      0.00        59\n",
      "     Sadness       0.00      0.00      0.00        26\n",
      "       Anger       0.00      0.00      0.00        56\n",
      "        Fear       0.00      0.00      0.00        71\n",
      "         Joy       0.00      0.00      0.00        31\n",
      "    Surprise       0.34      0.75      0.47       232\n",
      "\n",
      "    accuracy                           0.26       678\n",
      "   macro avg       0.05      0.12      0.07       678\n",
      "weighted avg       0.12      0.26      0.16       678\n",
      "\n"
     ]
    },
    {
     "name": "stderr",
     "output_type": "stream",
     "text": [
      "C:\\Users\\Saim\\anaconda3\\lib\\site-packages\\sklearn\\metrics\\_classification.py:1245: UndefinedMetricWarning: Precision and F-score are ill-defined and being set to 0.0 in labels with no predicted samples. Use `zero_division` parameter to control this behavior.\n",
      "  _warn_prf(average, modifier, msg_start, len(result))\n",
      "C:\\Users\\Saim\\anaconda3\\lib\\site-packages\\sklearn\\metrics\\_classification.py:1245: UndefinedMetricWarning: Precision and F-score are ill-defined and being set to 0.0 in labels with no predicted samples. Use `zero_division` parameter to control this behavior.\n",
      "  _warn_prf(average, modifier, msg_start, len(result))\n",
      "C:\\Users\\Saim\\anaconda3\\lib\\site-packages\\sklearn\\metrics\\_classification.py:1245: UndefinedMetricWarning: Precision and F-score are ill-defined and being set to 0.0 in labels with no predicted samples. Use `zero_division` parameter to control this behavior.\n",
      "  _warn_prf(average, modifier, msg_start, len(result))\n",
      "C:\\Users\\Saim\\anaconda3\\lib\\site-packages\\sklearn\\metrics\\_classification.py:1245: UndefinedMetricWarning: Precision and F-score are ill-defined and being set to 0.0 in labels with no predicted samples. Use `zero_division` parameter to control this behavior.\n",
      "  _warn_prf(average, modifier, msg_start, len(result))\n",
      "C:\\Users\\Saim\\anaconda3\\lib\\site-packages\\sklearn\\metrics\\_classification.py:1245: UndefinedMetricWarning: Precision and F-score are ill-defined and being set to 0.0 in labels with no predicted samples. Use `zero_division` parameter to control this behavior.\n",
      "  _warn_prf(average, modifier, msg_start, len(result))\n",
      "C:\\Users\\Saim\\anaconda3\\lib\\site-packages\\sklearn\\metrics\\_classification.py:1245: UndefinedMetricWarning: Precision and F-score are ill-defined and being set to 0.0 in labels with no predicted samples. Use `zero_division` parameter to control this behavior.\n",
      "  _warn_prf(average, modifier, msg_start, len(result))\n"
     ]
    }
   ],
   "source": [
    "# Classification reports\n",
    "emotions_logistic_report = metrics.classification_report(y_test, \n",
    "                                                         emotions__log_pred, \n",
    "                                                         target_names = labels)\n",
    "\n",
    "emotions_MNB_report = metrics.classification_report(y_test, \n",
    "                                                    emotions_MNB_pred, \n",
    "                                                    target_names = labels)\n",
    "\n",
    "print('Classification report for logistic model:\\n', emotions_logistic_report)\n",
    "print('Classification report for MNB model:\\n', emotions_MNB_report)"
   ]
  },
  {
   "cell_type": "markdown",
   "metadata": {},
   "source": []
  },
  {
   "cell_type": "code",
   "execution_count": 22,
   "metadata": {},
   "outputs": [
    {
     "name": "stdout",
     "output_type": "stream",
     "text": [
      "Counter({'Trust': 1159, 'Anticipation': 928, 'Sadness': 357, 'Disgust': 293, 'Joy': 279, 'Surprise': 156, 'Fear': 129, 'Anger': 85})\n"
     ]
    },
    {
     "data": {
      "text/html": [
       "<div>\n",
       "<style scoped>\n",
       "    .dataframe tbody tr th:only-of-type {\n",
       "        vertical-align: middle;\n",
       "    }\n",
       "\n",
       "    .dataframe tbody tr th {\n",
       "        vertical-align: top;\n",
       "    }\n",
       "\n",
       "    .dataframe thead th {\n",
       "        text-align: right;\n",
       "    }\n",
       "</style>\n",
       "<table border=\"1\" class=\"dataframe\">\n",
       "  <thead>\n",
       "    <tr style=\"text-align: right;\">\n",
       "      <th></th>\n",
       "      <th>No</th>\n",
       "      <th>discussion_text</th>\n",
       "      <th>Label</th>\n",
       "      <th>ModelName</th>\n",
       "      <th>TextId</th>\n",
       "    </tr>\n",
       "  </thead>\n",
       "  <tbody>\n",
       "    <tr>\n",
       "      <th>0</th>\n",
       "      <td>1</td>\n",
       "      <td>...been on a low-carb diet my blood glucose h...</td>\n",
       "      <td>Living with diabetes - Nutrition</td>\n",
       "      <td>Patient Journey</td>\n",
       "      <td>508e98fc-8db4-4283-a2a4-63c3b70acf86</td>\n",
       "    </tr>\n",
       "    <tr>\n",
       "      <th>1</th>\n",
       "      <td>2</td>\n",
       "      <td>A major problem with the American diet is too ...</td>\n",
       "      <td>Living with diabetes - Nutrition</td>\n",
       "      <td>Patient Journey</td>\n",
       "      <td>1349404b-4192-4da2-89ed-346d17351c6b</td>\n",
       "    </tr>\n",
       "    <tr>\n",
       "      <th>2</th>\n",
       "      <td>3</td>\n",
       "      <td>Everybody knows that being fat leads to Type 2...</td>\n",
       "      <td>Undiagnosed</td>\n",
       "      <td>Patient Journey</td>\n",
       "      <td>a8961bab-8d57-492e-89b1-07b616a605f1</td>\n",
       "    </tr>\n",
       "    <tr>\n",
       "      <th>3</th>\n",
       "      <td>4</td>\n",
       "      <td>For example  this diet could help reduce prost...</td>\n",
       "      <td>Living with diabetes - Nutrition</td>\n",
       "      <td>Patient Journey</td>\n",
       "      <td>10628e32-8c12-4c09-b9e0-f98885519c94</td>\n",
       "    </tr>\n",
       "    <tr>\n",
       "      <th>4</th>\n",
       "      <td>5</td>\n",
       "      <td>Hi everyone I have T2 diabetes and was diagnos...</td>\n",
       "      <td>Clinical Treatment</td>\n",
       "      <td>Patient Journey</td>\n",
       "      <td>470c5855-24b9-44b3-aedc-c5cf2ed5ed6d</td>\n",
       "    </tr>\n",
       "  </tbody>\n",
       "</table>\n",
       "</div>"
      ],
      "text/plain": [
       "   No                                    discussion_text  \\\n",
       "0   1   ...been on a low-carb diet my blood glucose h...   \n",
       "1   2  A major problem with the American diet is too ...   \n",
       "2   3  Everybody knows that being fat leads to Type 2...   \n",
       "3   4  For example  this diet could help reduce prost...   \n",
       "4   5  Hi everyone I have T2 diabetes and was diagnos...   \n",
       "\n",
       "                              Label        ModelName  \\\n",
       "0  Living with diabetes - Nutrition  Patient Journey   \n",
       "1  Living with diabetes - Nutrition  Patient Journey   \n",
       "2                       Undiagnosed  Patient Journey   \n",
       "3  Living with diabetes - Nutrition  Patient Journey   \n",
       "4                Clinical Treatment  Patient Journey   \n",
       "\n",
       "                                 TextId  \n",
       "0  508e98fc-8db4-4283-a2a4-63c3b70acf86  \n",
       "1  1349404b-4192-4da2-89ed-346d17351c6b  \n",
       "2  a8961bab-8d57-492e-89b1-07b616a605f1  \n",
       "3  10628e32-8c12-4c09-b9e0-f98885519c94  \n",
       "4  470c5855-24b9-44b3-aedc-c5cf2ed5ed6d  "
      ]
     },
     "execution_count": 22,
     "metadata": {},
     "output_type": "execute_result"
    }
   ],
   "source": [
    "# Start of Patient Journey dataset\n",
    "df_2 = pd.read_csv(r'C:\\Users\\Saim\\Desktop\\Diabetes-classi.csv')\n",
    "labels_2 = df_2.Label.unique()\n",
    "\n",
    "counter_2 = Counter(df.Label)\n",
    "print(counter)\n",
    "\n",
    "df_2.head()"
   ]
  },
  {
   "cell_type": "code",
   "execution_count": 23,
   "metadata": {},
   "outputs": [
    {
     "data": {
      "image/png": "[encoded data removed]",
      "text/plain": [
       "<Figure size 432x288 with 1 Axes>"
      ]
     },
     "metadata": {
      "needs_background": "light"
     },
     "output_type": "display_data"
    }
   ],
   "source": [
    "# Visualizing label distribution\n",
    "plt.bar(counter_2.keys(), counter_2.values())\n",
    "plt.show()"
   ]
  },
  {
   "cell_type": "code",
   "execution_count": 24,
   "metadata": {},
   "outputs": [
    {
     "data": {
      "text/plain": [
       "1420    i am do thi for myself and to help my health y...\n",
       "1421    i am extrem glad i found thi forum and all you...\n",
       "1422    i am fairli newli diagnos with type diabet whi...\n",
       "1423    i am fairli newli diagnos with type diabet whi...\n",
       "1424    i am go through the same thing right now i had...\n",
       "1425    i am go to ask my doctor for a fast insulin te...\n",
       "Name: text_clean, dtype: object"
      ]
     },
     "execution_count": 24,
     "metadata": {},
     "output_type": "execute_result"
    }
   ],
   "source": [
    "df_2[\"text_clean\"] = df_2[\"discussion_text\"].apply(lambda x: preprocess(x))\n",
    "df_2.tail(6)[\"text_clean\"]"
   ]
  },
  {
   "cell_type": "code",
   "execution_count": 25,
   "metadata": {},
   "outputs": [
    {
     "name": "stdout",
     "output_type": "stream",
     "text": [
      "Counter({'Living with diabetes - Nutrition': 335, 'Living with diabetes - Lifestyle; Social and Psychological': 231, 'Clinical Treatment': 177, 'Undiagnosed': 150, 'Living with diabetes - Exercise': 148, 'Diagnosis ': 47, 'Relatives of diabetes patients': 41, 'Alternative Treatment': 11})\n",
      "Counter({'Living with diabetes - Nutrition': 84, 'Living with diabetes - Lifestyle; Social and Psychological': 58, 'Clinical Treatment': 45, 'Undiagnosed': 37, 'Living with diabetes - Exercise': 37, 'Diagnosis ': 12, 'Relatives of diabetes patients': 10, 'Alternative Treatment': 3})\n"
     ]
    }
   ],
   "source": [
    "X_train_2, X_test_2, y_train_2, y_test_2 = train_test_split(df_2.text_clean, df_2.Label,\n",
    "                                                                        test_size = 0.2,\n",
    "                                                                        random_state = 42,\n",
    "                                                                        shuffle = True,\n",
    "                                                                        stratify = df_2.Label)\n",
    "print(Counter(y_train_2))\n",
    "print(Counter(y_test_2))"
   ]
  },
  {
   "cell_type": "code",
   "execution_count": 26,
   "metadata": {},
   "outputs": [],
   "source": [
    "patientJourney_log_clf = logistic_model.fit(X_train_2, y_train_2)\n",
    "patientJourney_log_pred = logistic_model.predict(X_test_2)\n",
    "\n",
    "patientJourney_MNB_clf = MNB_model.fit(X_train_2, y_train_2)\n",
    "patientJourney_MNB_pred = MNB_model.predict(X_test_2)"
   ]
  },
  {
   "cell_type": "code",
   "execution_count": 27,
   "metadata": {},
   "outputs": [
    {
     "name": "stdout",
     "output_type": "stream",
     "text": [
      "Accuracy for logistic model: 0.458041958041958\n",
      "Accuracy for MNB model: 0.2972027972027972\n"
     ]
    }
   ],
   "source": [
    "patientJourney_log_acc = accuracy_score(y_test_2, patientJourney_log_pred)\n",
    "patientJourney_MNB_acc = accuracy_score(y_test_2, patientJourney_MNB_pred)\n",
    "\n",
    "print('Accuracy for logistic model:', patientJourney_log_acc)\n",
    "print('Accuracy for MNB model:', patientJourney_MNB_acc)"
   ]
  },
  {
   "cell_type": "code",
   "execution_count": 28,
   "metadata": {},
   "outputs": [
    {
     "name": "stdout",
     "output_type": "stream",
     "text": [
      "Classification report for logistic model:\n",
      "                                                             precision    recall  f1-score   support\n",
      "\n",
      "                          Living with diabetes - Nutrition       0.00      0.00      0.00         3\n",
      "                                               Undiagnosed       0.54      0.49      0.51        45\n",
      "                                        Clinical Treatment       0.00      0.00      0.00        12\n",
      "                            Relatives of diabetes patients       0.53      0.27      0.36        37\n",
      "Living with diabetes - Lifestyle; Social and Psychological       0.38      0.31      0.34        58\n",
      "                           Living with diabetes - Exercise       0.46      0.89      0.60        84\n",
      "                                     Alternative Treatment       0.00      0.00      0.00        10\n",
      "                                                Diagnosis        0.43      0.16      0.24        37\n",
      "\n",
      "                                                  accuracy                           0.46       286\n",
      "                                                 macro avg       0.29      0.27      0.26       286\n",
      "                                              weighted avg       0.42      0.46      0.40       286\n",
      "\n",
      "Classification report for MNB model:\n",
      "                                                             precision    recall  f1-score   support\n",
      "\n",
      "                          Living with diabetes - Nutrition       0.00      0.00      0.00         3\n",
      "                                               Undiagnosed       0.67      0.09      0.16        45\n",
      "                                        Clinical Treatment       0.00      0.00      0.00        12\n",
      "                            Relatives of diabetes patients       0.00      0.00      0.00        37\n",
      "Living with diabetes - Lifestyle; Social and Psychological       0.00      0.00      0.00        58\n",
      "                           Living with diabetes - Exercise       0.31      0.96      0.47        84\n",
      "                                     Alternative Treatment       0.00      0.00      0.00        10\n",
      "                                                Diagnosis        0.00      0.00      0.00        37\n",
      "\n",
      "                                                  accuracy                           0.30       286\n",
      "                                                 macro avg       0.12      0.13      0.08       286\n",
      "                                              weighted avg       0.20      0.30      0.16       286\n",
      "\n"
     ]
    },
    {
     "name": "stderr",
     "output_type": "stream",
     "text": [
      "C:\\Users\\Saim\\anaconda3\\lib\\site-packages\\sklearn\\metrics\\_classification.py:1245: UndefinedMetricWarning: Precision and F-score are ill-defined and being set to 0.0 in labels with no predicted samples. Use `zero_division` parameter to control this behavior.\n",
      "  _warn_prf(average, modifier, msg_start, len(result))\n",
      "C:\\Users\\Saim\\anaconda3\\lib\\site-packages\\sklearn\\metrics\\_classification.py:1245: UndefinedMetricWarning: Precision and F-score are ill-defined and being set to 0.0 in labels with no predicted samples. Use `zero_division` parameter to control this behavior.\n",
      "  _warn_prf(average, modifier, msg_start, len(result))\n",
      "C:\\Users\\Saim\\anaconda3\\lib\\site-packages\\sklearn\\metrics\\_classification.py:1245: UndefinedMetricWarning: Precision and F-score are ill-defined and being set to 0.0 in labels with no predicted samples. Use `zero_division` parameter to control this behavior.\n",
      "  _warn_prf(average, modifier, msg_start, len(result))\n",
      "C:\\Users\\Saim\\anaconda3\\lib\\site-packages\\sklearn\\metrics\\_classification.py:1245: UndefinedMetricWarning: Precision and F-score are ill-defined and being set to 0.0 in labels with no predicted samples. Use `zero_division` parameter to control this behavior.\n",
      "  _warn_prf(average, modifier, msg_start, len(result))\n",
      "C:\\Users\\Saim\\anaconda3\\lib\\site-packages\\sklearn\\metrics\\_classification.py:1245: UndefinedMetricWarning: Precision and F-score are ill-defined and being set to 0.0 in labels with no predicted samples. Use `zero_division` parameter to control this behavior.\n",
      "  _warn_prf(average, modifier, msg_start, len(result))\n",
      "C:\\Users\\Saim\\anaconda3\\lib\\site-packages\\sklearn\\metrics\\_classification.py:1245: UndefinedMetricWarning: Precision and F-score are ill-defined and being set to 0.0 in labels with no predicted samples. Use `zero_division` parameter to control this behavior.\n",
      "  _warn_prf(average, modifier, msg_start, len(result))\n"
     ]
    }
   ],
   "source": [
    "patientJourney_logistic_report = metrics.classification_report(y_test_2, \n",
    "                                                         patientJourney_log_pred, \n",
    "                                                         target_names = labels_2)\n",
    "\n",
    "patientJourney_MNB_report = metrics.classification_report(y_test_2, \n",
    "                                                    patientJourney_MNB_pred, \n",
    "                                                    target_names = labels_2)\n",
    "\n",
    "print('Classification report for logistic model:\\n', patientJourney_logistic_report)\n",
    "print('Classification report for MNB model:\\n', patientJourney_MNB_report)"
   ]
  },
  {
   "cell_type": "markdown",
   "metadata": {},
   "source": [
    "The low accuracy scores can be attributed to the fact that even though we accounted for the class imbalance through ADASYN, the algorithm does not perform well on sparse matrices, which our dataset becomes after vectorization, as vizualised below for the emotions dataset. The solution to this is to perform feature selection and then pass the data to the models."
   ]
  },
  {
   "cell_type": "code",
   "execution_count": 33,
   "metadata": {},
   "outputs": [
    {
     "data": {
      "text/plain": [
       "Text(0.5, 1.0, 'Word Matrix')"
      ]
     },
     "execution_count": 33,
     "metadata": {},
     "output_type": "execute_result"
    },
    {
     "data": {
      "image/png": "[encoded data removed]",
      "text/plain": [
       "<Figure size 432x288 with 1 Axes>"
      ]
     },
     "metadata": {
      "needs_background": "light"
     },
     "output_type": "display_data"
    }
   ],
   "source": [
    "# Feature matrix has a shape of 2708 documents (number of rows in splitted df) and 10k features\n",
    "# Converting Series object to equivalent pipeline vectors in order to visualize. \n",
    "vectorizer = TfidfVectorizer(stop_words = \"english\",\n",
    "                             ngram_range = (1, 4))\n",
    "\n",
    "X_viz = vectorizer.fit_transform(X_train)\n",
    "\n",
    "    \n",
    "sns.heatmap(X_viz.todense()[:,np.random.randint(0, \n",
    "                                X_viz.shape[1], \n",
    "                                100)]==0, \n",
    "                                vmin=0, \n",
    "                                vmax=1, \n",
    "                                cbar=False).set_title('Word Matrix')"
   ]
  },
  {
   "cell_type": "code",
   "execution_count": 118,
   "metadata": {},
   "outputs": [
    {
     "data": {
      "text/plain": [
       "array([15.51148814, 15.51148814,  5.12242753, ...,  9.69732705,\n",
       "       12.8900929 ,  6.37222074])"
      ]
     },
     "execution_count": 118,
     "metadata": {},
     "output_type": "execute_result"
    }
   ],
   "source": [
    "test = SelectKBest(score_func=chi2, k=4)\n",
    "\n",
    "fit = test.fit(X_train, y_train)\n",
    "fit.scores_"
   ]
  },
  {
   "cell_type": "code",
   "execution_count": 121,
   "metadata": {},
   "outputs": [
    {
     "name": "stdout",
     "output_type": "stream",
     "text": [
      "  (118, 0)\t1\n",
      "  (118, 1)\t1\n",
      "  (293, 3)\t4\n",
      "  (857, 1)\t2\n",
      "  (1044, 1)\t1\n",
      "  (1117, 2)\t5\n",
      "  (1136, 3)\t1\n",
      "  (1446, 1)\t1\n",
      "  (1484, 0)\t4\n",
      "  (1484, 1)\t4\n",
      "  (1627, 3)\t1\n",
      "  (2118, 2)\t5\n",
      "  (2156, 1)\t2\n"
     ]
    }
   ],
   "source": [
    "X_new=test.fit_transform(X_train, y_train)\n",
    "print(X_new)"
   ]
  },
  {
   "cell_type": "code",
   "execution_count": null,
   "metadata": {},
   "outputs": [],
   "source": [
    "p_values = pd.Series(chi_scores[1],index = X.columns)\n",
    "p_values.sort_values(ascending = False , inplace = True)"
   ]
  }
 ],
 "metadata": {
  "kernelspec": {
   "display_name": "Python 3",
   "language": "python",
   "name": "python3"
  },
  "language_info": {
   "codemirror_mode": {
    "name": "ipython",
    "version": 3
   },
   "file_extension": ".py",
   "mimetype": "text/x-python",
   "name": "python",
   "nbconvert_exporter": "python",
   "pygments_lexer": "ipython3",
   "version": "3.8.3"
  }
 },
 "nbformat": 4,
 "nbformat_minor": 4
}
